{
 "cells": [
  {
   "cell_type": "code",
   "execution_count": null,
   "id": "ad034581",
   "metadata": {
    "vscode": {
     "languageId": "plaintext"
    }
   },
   "outputs": [],
   "source": [
    "# Colab 用セットアップ\n",
    "!pip -q install -U numpy matplotlib"
   ]
  },
  {
   "cell_type": "code",
   "execution_count": null,
   "id": "5d6abd40",
   "metadata": {
    "vscode": {
     "languageId": "plaintext"
    }
   },
   "outputs": [],
   "source": [
    "import numpy as np"
   ]
  },
  {
   "cell_type": "code",
   "execution_count": null,
   "id": "fc506f82",
   "metadata": {
    "vscode": {
     "languageId": "plaintext"
    }
   },
   "outputs": [],
   "source": [
    "# 配列の作成\n",
    "a = np.array([1, 2, 3, 4, 5])\n",
    "print(\"a:\", a)\n",
    "print(\"type:\", type(a))\n",
    "print(\"shape:\", a.shape)\n",
    "print(\"dtype:\", a.dtype)\n",
    "\n",
    "# 多次元配列\n",
    "b = np.array([[1,2,3],[4,5,6]])\n",
    "print(\"b:\\n\", b)\n",
    "print(\"shape:\", b.shape, \"ndim:\", b.ndim)"
   ]
  },
  {
   "cell_type": "code",
   "execution_count": null,
   "id": "7d9effd0",
   "metadata": {
    "vscode": {
     "languageId": "plaintext"
    }
   },
   "outputs": [],
   "source": [
    "# 練習問題\n",
    "# 1) 0から9までの整数を要素に持つ一次元配列を作りましょう\n",
    "# 2) それを (2,5) の形に reshape して表示してみましょう"
   ]
  }
 ],
 "metadata": {
  "language_info": {
   "name": "python"
  }
 },
 "nbformat": 4,
 "nbformat_minor": 5
}
