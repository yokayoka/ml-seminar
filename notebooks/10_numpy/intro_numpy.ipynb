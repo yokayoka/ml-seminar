{
 "cells": [
  {
   "cell_type": "markdown",
   "id": "5ecda206",
   "metadata": {},
   "source": [
    "# NumPy 入門：配列・ブロードキャスト・ベクトル化\n",
    "**到達目標**  \n",
    "- `ndarray` の基本（形状・dtype）を理解する  \n",
    "- スライシング／ブロードキャスト／ベクトル化の基本を身につける  \n",
    "- Python ループより速い配列演算に慣れる\n",
    "\n",
    "> 実行方法: 上部の「Runtime」→「Run all」または各セルを順に実行。Colab の場合は最初に下の `pip` セルを実行してください。\n"
   ]
  },
  {
   "cell_type": "markdown",
   "id": "91577e94",
   "metadata": {},
   "source": [
    "# Colab 用セットアップ（ローカル実行ならスキップ可）\n",
    "# できるだけ標準ライブラリ＋NumPyで進めます。必要最小限。\n",
    "!pip -q install -U numpy matplotlib tqdm"
   ]
  },
  {
   "cell_type": "markdown",
   "id": "885a6916",
   "metadata": {},
   "source": [
    "# 基本の import\n",
    "import numpy as np\n",
    "import matplotlib.pyplot as plt\n",
    "\n",
    "np.__version__"
   ]
  },
  {
   "cell_type": "markdown",
   "id": "1b39b8be",
   "metadata": {},
   "source": [
    "# ndarray の生成と基本属性\n",
    "a = np.arange(12).reshape(3,4)\n",
    "print(\"a =\\n\", a)\n",
    "print(\"shape:\", a.shape, \"ndim:\", a.ndim, \"dtype:\", a.dtype)"
   ]
  },
  {
   "cell_type": "markdown",
   "id": "6a13b7a5",
   "metadata": {},
   "source": [
    "# スライシングとビュー（参照）\n",
    "b = a[1:, 1:3]\n",
    "print(\"b =\\n\", b)\n",
    "b[0,0] = 999  # ビューなので a にも影響\n",
    "print(\"変更後 a =\\n\", a)"
   ]
  },
  {
   "cell_type": "markdown",
   "id": "cfeff6dc",
   "metadata": {},
   "source": [
    "# ブロードキャスト\n",
    "x = np.arange(5)            # [0,1,2,3,4]\n",
    "y = np.ones((3,1)) * 10     # (3,1) 形状\n",
    "z = y + x                   # (3,5) にブロードキャスト\n",
    "z"
   ]
  },
  {
   "cell_type": "markdown",
   "id": "0edd3b50",
   "metadata": {},
   "source": [
    "# ベクトル化：Python ループ vs NumPy\n",
    "import time\n",
    "\n",
    "N = 1_000_00  # 10万\n",
    "lst = list(range(N))\n",
    "start = time.time()\n",
    "out_py = [v**2 + 2*v + 1 for v in lst]  # (v+1)^2\n",
    "t_py = time.time() - start\n",
    "\n",
    "arr = np.arange(N)\n",
    "start = time.time()\n",
    "out_np = arr**2 + 2*arr + 1\n",
    "t_np = time.time() - start\n",
    "\n",
    "print(f\"Pythonループ: {t_py:.4f}s, NumPy: {t_np:.4f}s, 速度比={t_py/max(t_np,1e-9):.1f}x\")"
   ]
  },
  {
   "cell_type": "markdown",
   "id": "6ad19ea2",
   "metadata": {},
   "source": [
    "# 練習問題 1:\n",
    "# 1) 0〜1の一様乱数 (1000,) を生成し、平均と標準偏差を表示\n",
    "# 2) ブロードキャストを用いて、(1000,3) の行列に列別のシフト [0.0, 1.0, -1.0] を加算\n",
    "# 3) 2) で得た行列の各列ヒストグラムを matplotlib で重ね描き\n",
    "#\n",
    "# --- ここから記述 ---\n"
   ]
  }
 ],
 "metadata": {},
 "nbformat": 4,
 "nbformat_minor": 5
}
