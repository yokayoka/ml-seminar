{
 "cells": [
  {
   "cell_type": "markdown",
   "id": "a84f5cd1",
   "metadata": {},
   "source": [
    "# scikit-learn 基礎：前処理→学習→評価（分類）\n",
    "**到達目標**\n",
    "- 学習/検証の分割と再現性（乱数シード）を理解する\n",
    "- `Pipeline` と `ColumnTransformer` で前処理と学習を一括管理する\n",
    "- 交差検証・混同行列・学習曲線でモデルを評価する\n",
    "\n",
    "> Colab では最初に下の `pip` セルを実行してください。\n"
   ]
  },
  {
   "cell_type": "code",
   "execution_count": null,
   "id": "f55fad22",
   "metadata": {},
   "outputs": [],
   "source": [
    "# Colab 用セットアップ\n",
    "!pip -q install -U scikit-learn matplotlib numpy pandas tqdm"
   ]
  },
  {
   "cell_type": "code",
   "execution_count": null,
   "id": "e8e4c513",
   "metadata": {},
   "outputs": [],
   "source": [
    "import numpy as np\n",
    "import pandas as pd\n",
    "import matplotlib.pyplot as plt\n",
    "from sklearn.datasets import load_iris\n",
    "from sklearn.model_selection import train_test_split, cross_val_score, learning_curve\n",
    "from sklearn.preprocessing import StandardScaler\n",
    "from sklearn.pipeline import Pipeline\n",
    "from sklearn.metrics import classification_report, confusion_matrix, ConfusionMatrixDisplay\n",
    "from sklearn.linear_model import LogisticRegression\n",
    "from sklearn.ensemble import RandomForestClassifier\n",
    "from sklearn.impute import SimpleImputer\n",
    "np.random.seed(42)"
   ]
  },
  {
   "cell_type": "code",
   "execution_count": null,
   "id": "3a568f0d",
   "metadata": {},
   "outputs": [],
   "source": [
    "# データ準備\n",
    "iris = load_iris(as_frame=True)\n",
    "X = iris.data.copy()\n",
    "y = iris.target\n",
    "X.head()"
   ]
  },
  {
   "cell_type": "code",
   "execution_count": null,
   "id": "4a43bfdf",
   "metadata": {},
   "outputs": [],
   "source": [
    "# Train/Test 分割\n",
    "from sklearn.model_selection import train_test_split\n",
    "X_train, X_test, y_train, y_test = train_test_split(\n",
    "    X, y, test_size=0.2, random_state=42, stratify=y\n",
    ")\n",
    "X_train.shape, X_test.shape"
   ]
  },
  {
   "cell_type": "code",
   "execution_count": null,
   "id": "637e4ab5",
   "metadata": {},
   "outputs": [],
   "source": [
    "# LogisticRegression パイプライン\n",
    "num_proc = Pipeline(steps=[\n",
    "    (\"impute\", SimpleImputer(strategy=\"median\")),\n",
    "    (\"scale\", StandardScaler()),\n",
    "])\n",
    "clf_lr = Pipeline(steps=[\n",
    "    (\"pre\", num_proc),\n",
    "    (\"model\", LogisticRegression(max_iter=1000, random_state=42))\n",
    "])\n",
    "clf_lr.fit(X_train, y_train)\n",
    "y_pred = clf_lr.predict(X_test)\n",
    "print(classification_report(y_test, y_pred, target_names=iris.target_names))\n",
    "cm = confusion_matrix(y_test, y_pred)\n",
    "disp = ConfusionMatrixDisplay(confusion_matrix=cm, display_labels=iris.target_names)\n",
    "disp.plot(values_format=\"d\")\n",
    "plt.show()"
   ]
  },
  {
   "cell_type": "code",
   "execution_count": null,
   "id": "1581f6bb",
   "metadata": {},
   "outputs": [],
   "source": [
    "# 交差検証\n",
    "scores = cross_val_score(clf_lr, X_train, y_train, cv=5)\n",
    "print(\"CV mean:\", scores.mean(), \"±\", scores.std())"
   ]
  },
  {
   "cell_type": "code",
   "execution_count": null,
   "id": "0e83f90a",
   "metadata": {},
   "outputs": [],
   "source": [
    "# 学習曲線\n",
    "train_sizes, train_scores, valid_scores = learning_curve(\n",
    "    clf_lr, X_train, y_train, cv=5,\n",
    "    train_sizes=np.linspace(0.1, 1.0, 5), shuffle=True, random_state=42\n",
    ")\n",
    "plt.plot(train_sizes, train_scores.mean(axis=1), \"o-\", label=\"train\")\n",
    "plt.plot(train_sizes, valid_scores.mean(axis=1), \"s-\", label=\"cv\")\n",
    "plt.xlabel(\"Training examples\"); plt.ylabel(\"Score\")\n",
    "plt.title(\"Learning Curve (LogisticRegression)\")\n",
    "plt.legend(); plt.show()"
   ]
  },
  {
   "cell_type": "code",
   "execution_count": null,
   "id": "ac1f2e45",
   "metadata": {},
   "outputs": [],
   "source": [
    "# RandomForest でも比較\n",
    "clf_rf = Pipeline(steps=[\n",
    "    (\"pre\", num_proc),\n",
    "    (\"model\", RandomForestClassifier(n_estimators=200, random_state=42))\n",
    "])\n",
    "clf_rf.fit(X_train, y_train)\n",
    "y_pred_rf = clf_rf.predict(X_test)\n",
    "print(classification_report(y_test, y_pred_rf, target_names=iris.target_names))\n",
    "cm = confusion_matrix(y_test, y_pred_rf)\n",
    "ConfusionMatrixDisplay(confusion_matrix=cm, display_labels=iris.target_names).plot(values_format=\"d\")\n",
    "plt.show()"
   ]
  },
  {
   "cell_type": "code",
   "execution_count": null,
   "id": "58a4dad3",
   "metadata": {},
   "outputs": [],
   "source": [
    "# 練習問題\n",
    "# 1) RandomForest の max_depth をいくつか試し CV スコアを比較\n",
    "# 2) feature_importances_ を可視化（棒グラフ）\n",
    "# 3) cv=3,5,10 で学習曲線の変化を確認\n"
   ]
  }
 ],
 "metadata": {},
 "nbformat": 4,
 "nbformat_minor": 5
}
