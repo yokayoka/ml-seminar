{
 "cells": [
  {
   "cell_type": "markdown",
   "id": "bee3e291",
   "metadata": {},
   "source": [
    "# pandas 入門：データフレーム操作・前処理・可視化\n",
    "**到達目標**  \n",
    "- CSV からの読み込みと基本統計の確認  \n",
    "- `loc` / `query` / `groupby` の基本  \n",
    "- 可視化（matplotlib）と簡単な前処理（欠損・型変換）\n",
    "\n",
    "> 実行手順: 最初に `pip` セル→データ生成セル（CSVを書き出し）→以降のセルを実行\n"
   ]
  },
  {
   "cell_type": "markdown",
   "id": "69b283ee",
   "metadata": {},
   "source": [
    "# Colab 用セットアップ\n",
    "!pip -q install -U pandas matplotlib numpy tqdm"
   ]
  },
  {
   "cell_type": "markdown",
   "id": "3effd44a",
   "metadata": {},
   "source": [
    "# サンプル CSV を作る（学内ネットワーク等に依存しないため）\n",
    "from pathlib import Path\n",
    "data_dir = Path(\"/content/data\")\n",
    "data_dir.mkdir(parents=True, exist_ok=True)\n",
    "csv_path = data_dir/\"iris_small.csv\"\n",
    "csv_text = 'species,sepal_length,sepal_width,petal_length,petal_width\\nsetosa,5.1,3.5,1.4,0.2\\nsetosa,4.9,3.0,1.4,0.2\\nsetosa,4.7,3.2,1.3,0.2\\nversicolor,7.0,3.2,4.7,1.4\\nversicolor,6.4,3.2,4.5,1.5\\nvirginica,6.3,3.3,6.0,2.5\\nvirginica,5.8,2.7,5.1,1.9\\n'\n",
    "csv_path.write_text(csv_text, encoding=\"utf-8\")\n",
    "csv_path"
   ]
  },
  {
   "cell_type": "markdown",
   "id": "ec9ac808",
   "metadata": {},
   "source": [
    "# 読み込みと基本確認\n",
    "import pandas as pd\n",
    "import numpy as np\n",
    "import matplotlib.pyplot as plt\n",
    "\n",
    "df = pd.read_csv(\"/content/data/iris_small.csv\")\n",
    "display(df.head())\n",
    "display(df.describe(include='all'))"
   ]
  },
  {
   "cell_type": "markdown",
   "id": "3a3a762e",
   "metadata": {},
   "source": [
    "# 欠損値と型確認（今回は欠損なし想定）\n",
    "print(df.isna().sum())\n",
    "print(df.dtypes)"
   ]
  },
  {
   "cell_type": "markdown",
   "id": "0657f80f",
   "metadata": {},
   "source": [
    "# loc / query / groupby の基本\n",
    "short = df.query(\"sepal_length >= 5.0\")\n",
    "agg = df.groupby(\"species\")[[\"sepal_length\", \"petal_length\"]].mean()\n",
    "display(short)\n",
    "display(agg)"
   ]
  },
  {
   "cell_type": "markdown",
   "id": "3d7b097a",
   "metadata": {},
   "source": [
    "# 可視化：箱ひげ図と散布図\n",
    "fig = plt.figure()\n",
    "df.boxplot(column=\"sepal_length\", by=\"species\", grid=False)\n",
    "plt.title(\"Sepal length by species\")\n",
    "plt.suptitle(\"\")  # デフォルトタイトルを消す\n",
    "plt.xlabel(\"species\"); plt.ylabel(\"sepal_length\")\n",
    "plt.show()\n",
    "\n",
    "fig = plt.figure()\n",
    "for sp, g in df.groupby(\"species\"):\n",
    "    plt.scatter(g[\"sepal_length\"], g[\"petal_length\"], label=sp)\n",
    "plt.legend()\n",
    "plt.xlabel(\"sepal_length\"); plt.ylabel(\"petal_length\")\n",
    "plt.title(\"Sepal vs Petal length\")\n",
    "plt.show()"
   ]
  },
  {
   "cell_type": "markdown",
   "id": "93cd525d",
   "metadata": {},
   "source": [
    "# 前処理例：標準化（列ごとに平均0, 分散1）\n",
    "num_cols = [\"sepal_length\",\"sepal_width\",\"petal_length\",\"petal_width\"]\n",
    "df_std = df.copy()\n",
    "df_std[num_cols] = (df[num_cols] - df[num_cols].mean())/df[num_cols].std(ddof=0)\n",
    "display(df_std.head())"
   ]
  },
  {
   "cell_type": "markdown",
   "id": "444473d0",
   "metadata": {},
   "source": [
    "# 練習問題 1:\n",
    "# 1) species ごとに petal_width の最大・最小・平均を集計（列名は max/min/mean）\n",
    "# 2) sepal_width が 3.0 以上の行のみのサブセットを作り、行数を表示\n",
    "# 3) 標準化した df_std を使って散布図 (sepal_width vs petal_width) を species 別に描く\n",
    "#\n",
    "# --- ここから記述 ---\n"
   ]
  }
 ],
 "metadata": {},
 "nbformat": 4,
 "nbformat_minor": 5
}
